{
 "cells": [
  {
   "cell_type": "markdown",
   "id": "2483c83b",
   "metadata": {},
   "source": [
    "# Interview Based Assessment"
   ]
  },
  {
   "cell_type": "markdown",
   "id": "223233a5",
   "metadata": {},
   "source": [
    "# Statistics"
   ]
  },
  {
   "cell_type": "code",
   "execution_count": 29,
   "id": "6b9b46d9",
   "metadata": {
    "collapsed": true
   },
   "outputs": [
    {
     "data": {
      "text/plain": [
       "'\\nAnswer 1: \\nA correlation coefficient of 0.7 indicates a strong positive relationship between SAT scores and college GPA, \\nsuggesting that higher SAT scores are generally associated with higher college GPAs among the 500 students in the study.\\n\\n'"
      ]
     },
     "execution_count": 29,
     "metadata": {},
     "output_type": "execute_result"
    }
   ],
   "source": [
    "\"\"\"\n",
    "Answer 1: \n",
    "A correlation coefficient of 0.7 indicates a strong positive relationship between SAT scores and college GPA, \n",
    "suggesting that higher SAT scores are generally associated with higher college GPAs among the 500 students in the study.\n",
    "\n",
    "\"\"\""
   ]
  },
  {
   "cell_type": "code",
   "execution_count": 30,
   "id": "f52ee837",
   "metadata": {
    "collapsed": true
   },
   "outputs": [
    {
     "data": {
      "text/plain": [
       "'\\nAnswer 2: \\na. To find the percentage of individuals with heights between 160 cm and 180 cm, we can use the properties of the\\nnormal distribution.\\n\\nFirst, we find the z-scores corresponding to 160 cm and 180 cm using the formula:\\nz = (x - mean) / standard deviation\\n\\nFor 160 cm:\\nz1 = (160 - 170) / 10 = -1\\n\\nFor 180 cm:\\nz2 = (180 - 170) / 10 = 1\\n\\nWe can then use a standard normal distribution table or calculator to find the corresponding probabilities. \\nThe probability of having a z-score between -1 and 1 represents the percentage of individuals with heights between 160 cm \\nand 180 cm.\\n\\nUsing the standard normal distribution table, the probability is approximately 0.6827, which is equivalent to 68.27%.\\n\\nTherefore, approximately 68.27% of individuals in the dataset have heights between 160 cm and 180 cm.\\n\\nb. The average height of a sample of 100 individuals can be considered to follow a normal distribution with the same mean \\nas the population (170 cm) but with a smaller standard deviation.\\n\\nThe standard deviation of the sample mean (also known as the standard error) can be calculated as:\\n\\nstandard error = standard deviation / sqrt(sample size)\\n\\nstandard error = 10 / sqrt(100) = 10 / 10 = 1\\n\\nTo find the probability that the average height is greater than 175 cm, we calculate the z-score for 175 cm using the \\nformula:\\n\\nz = (x - mean) / standard error\\n\\nz = (175 - 170) / 1 = 5\\n\\nUsing the standard normal distribution table or calculator, we find the probability corresponding to a z-score of 5, \\nwhich is very close to 1.\\n\\nTherefore, the probability that the average height of a random sample of 100 individuals is greater than 175 cm is \\napproximately 1 or 100%.\\n\\nc. To find the z-score corresponding to a height of 185 cm, we use the formula:\\n\\nz = (x - mean) / standard deviation\\n\\nz = (185 - 170) / 10 = 1.5\\n\\nTherefore, the z-score corresponding to a height of 185 cm is 1.5.\\n\\nd. We know that 5% of the dataset has heights below a certain value. To find the height corresponding to this threshold, \\nwe need to find the z-score that corresponds to the 5th percentile of the standard normal distribution.\\n\\nUsing the standard normal distribution table or calculator, we find the z-score corresponding to the 5th percentile is\\napproximately -1.645.\\n\\nWe can then calculate the height using the formula:\\n\\nheight = z * standard deviation + mean\\n\\nheight = -1.645 * 10 + 170 = 153.55 cm (approximately)\\n\\nTherefore, the approximate height corresponding to the threshold where 5% of the dataset has heights below it is 153.55 cm.\\n\\ne. The coefficient of variation (CV) is a measure of relative variability and is calculated as the ratio of the standard\\ndeviation to the mean.\\n\\nCV = (standard deviation / mean) * 100\\n\\nCV = (10 / 170) * 100 ≈ 5.88%\\n\\nTherefore, the coefficient of variation for the dataset is approximately 5.88%.\\n\\nf. The skewness of a dataset measures the asymmetry of its distribution. A skewness value of approximately zero indicates\\nthat the dataset is approximately symmetrical.\\n\\nSince the skewness of the dataset is approximately zero, it suggests that the heights are distributed symmetrically around\\nthe mean. This means that there is no significant deviation from symmetry, and the distribution is relatively balanced.\\n\\n'"
      ]
     },
     "execution_count": 30,
     "metadata": {},
     "output_type": "execute_result"
    }
   ],
   "source": [
    "\"\"\"\n",
    "Answer 2: \n",
    "a. To find the percentage of individuals with heights between 160 cm and 180 cm, we can use the properties of the\n",
    "normal distribution.\n",
    "\n",
    "First, we find the z-scores corresponding to 160 cm and 180 cm using the formula:\n",
    "z = (x - mean) / standard deviation\n",
    "\n",
    "For 160 cm:\n",
    "z1 = (160 - 170) / 10 = -1\n",
    "\n",
    "For 180 cm:\n",
    "z2 = (180 - 170) / 10 = 1\n",
    "\n",
    "We can then use a standard normal distribution table or calculator to find the corresponding probabilities. \n",
    "The probability of having a z-score between -1 and 1 represents the percentage of individuals with heights between 160 cm \n",
    "and 180 cm.\n",
    "\n",
    "Using the standard normal distribution table, the probability is approximately 0.6827, which is equivalent to 68.27%.\n",
    "\n",
    "Therefore, approximately 68.27% of individuals in the dataset have heights between 160 cm and 180 cm.\n",
    "\n",
    "b. The average height of a sample of 100 individuals can be considered to follow a normal distribution with the same mean \n",
    "as the population (170 cm) but with a smaller standard deviation.\n",
    "\n",
    "The standard deviation of the sample mean (also known as the standard error) can be calculated as:\n",
    "\n",
    "standard error = standard deviation / sqrt(sample size)\n",
    "\n",
    "standard error = 10 / sqrt(100) = 10 / 10 = 1\n",
    "\n",
    "To find the probability that the average height is greater than 175 cm, we calculate the z-score for 175 cm using the \n",
    "formula:\n",
    "\n",
    "z = (x - mean) / standard error\n",
    "\n",
    "z = (175 - 170) / 1 = 5\n",
    "\n",
    "Using the standard normal distribution table or calculator, we find the probability corresponding to a z-score of 5, \n",
    "which is very close to 1.\n",
    "\n",
    "Therefore, the probability that the average height of a random sample of 100 individuals is greater than 175 cm is \n",
    "approximately 1 or 100%.\n",
    "\n",
    "c. To find the z-score corresponding to a height of 185 cm, we use the formula:\n",
    "\n",
    "z = (x - mean) / standard deviation\n",
    "\n",
    "z = (185 - 170) / 10 = 1.5\n",
    "\n",
    "Therefore, the z-score corresponding to a height of 185 cm is 1.5.\n",
    "\n",
    "d. We know that 5% of the dataset has heights below a certain value. To find the height corresponding to this threshold, \n",
    "we need to find the z-score that corresponds to the 5th percentile of the standard normal distribution.\n",
    "\n",
    "Using the standard normal distribution table or calculator, we find the z-score corresponding to the 5th percentile is\n",
    "approximately -1.645.\n",
    "\n",
    "We can then calculate the height using the formula:\n",
    "\n",
    "height = z * standard deviation + mean\n",
    "\n",
    "height = -1.645 * 10 + 170 = 153.55 cm (approximately)\n",
    "\n",
    "Therefore, the approximate height corresponding to the threshold where 5% of the dataset has heights below it is 153.55 cm.\n",
    "\n",
    "e. The coefficient of variation (CV) is a measure of relative variability and is calculated as the ratio of the standard\n",
    "deviation to the mean.\n",
    "\n",
    "CV = (standard deviation / mean) * 100\n",
    "\n",
    "CV = (10 / 170) * 100 ≈ 5.88%\n",
    "\n",
    "Therefore, the coefficient of variation for the dataset is approximately 5.88%.\n",
    "\n",
    "f. The skewness of a dataset measures the asymmetry of its distribution. A skewness value of approximately zero indicates\n",
    "that the dataset is approximately symmetrical.\n",
    "\n",
    "Since the skewness of the dataset is approximately zero, it suggests that the heights are distributed symmetrically around\n",
    "the mean. This means that there is no significant deviation from symmetry, and the distribution is relatively balanced.\n",
    "\n",
    "\"\"\""
   ]
  },
  {
   "cell_type": "code",
   "execution_count": 13,
   "id": "28fea4a2",
   "metadata": {},
   "outputs": [],
   "source": [
    "\"\"\"\n",
    "Q-3. Consider the ‘Blood Pressure Before’ and ‘Blood Pressure After’ columns from the\n",
    "data and calculate the following\n",
    "\n",
    "https://drive.google.com/file/d/1mCjtYHiX--mMUjicuaP2gH3k-SnFxt8Y/view?usp=share_\n",
    "a. Measure the dispersion in both and interpret the results.\n",
    "b. Calculate mean and 5% confidence interval and plot it in a graph\n",
    "c. Calculate the Mean absolute deviation and Standard deviation and interpret\n",
    "the results.\n",
    "d. Calculate the correlation coefficient and check the significance of it at 1% level\n",
    "of significance.\n",
    "\"\"\"\n",
    "\n",
    "# Solution\n",
    "\n",
    "import pandas as pd\n",
    "df = pd.read_csv('bp_data.csv')"
   ]
  },
  {
   "cell_type": "code",
   "execution_count": 14,
   "id": "bbab8567",
   "metadata": {},
   "outputs": [
    {
     "data": {
      "text/html": [
       "<div>\n",
       "<style scoped>\n",
       "    .dataframe tbody tr th:only-of-type {\n",
       "        vertical-align: middle;\n",
       "    }\n",
       "\n",
       "    .dataframe tbody tr th {\n",
       "        vertical-align: top;\n",
       "    }\n",
       "\n",
       "    .dataframe thead th {\n",
       "        text-align: right;\n",
       "    }\n",
       "</style>\n",
       "<table border=\"1\" class=\"dataframe\">\n",
       "  <thead>\n",
       "    <tr style=\"text-align: right;\">\n",
       "      <th></th>\n",
       "      <th>Patient ID</th>\n",
       "      <th>Blood Pressure Before (mmHg)</th>\n",
       "      <th>Blood Pressure After (mmHg)</th>\n",
       "    </tr>\n",
       "  </thead>\n",
       "  <tbody>\n",
       "    <tr>\n",
       "      <th>0</th>\n",
       "      <td>1</td>\n",
       "      <td>130</td>\n",
       "      <td>120</td>\n",
       "    </tr>\n",
       "    <tr>\n",
       "      <th>1</th>\n",
       "      <td>2</td>\n",
       "      <td>142</td>\n",
       "      <td>135</td>\n",
       "    </tr>\n",
       "    <tr>\n",
       "      <th>2</th>\n",
       "      <td>3</td>\n",
       "      <td>120</td>\n",
       "      <td>118</td>\n",
       "    </tr>\n",
       "    <tr>\n",
       "      <th>3</th>\n",
       "      <td>4</td>\n",
       "      <td>135</td>\n",
       "      <td>127</td>\n",
       "    </tr>\n",
       "    <tr>\n",
       "      <th>4</th>\n",
       "      <td>5</td>\n",
       "      <td>148</td>\n",
       "      <td>140</td>\n",
       "    </tr>\n",
       "    <tr>\n",
       "      <th>...</th>\n",
       "      <td>...</td>\n",
       "      <td>...</td>\n",
       "      <td>...</td>\n",
       "    </tr>\n",
       "    <tr>\n",
       "      <th>95</th>\n",
       "      <td>96</td>\n",
       "      <td>136</td>\n",
       "      <td>129</td>\n",
       "    </tr>\n",
       "    <tr>\n",
       "      <th>96</th>\n",
       "      <td>97</td>\n",
       "      <td>143</td>\n",
       "      <td>137</td>\n",
       "    </tr>\n",
       "    <tr>\n",
       "      <th>97</th>\n",
       "      <td>98</td>\n",
       "      <td>127</td>\n",
       "      <td>123</td>\n",
       "    </tr>\n",
       "    <tr>\n",
       "      <th>98</th>\n",
       "      <td>99</td>\n",
       "      <td>139</td>\n",
       "      <td>135</td>\n",
       "    </tr>\n",
       "    <tr>\n",
       "      <th>99</th>\n",
       "      <td>100</td>\n",
       "      <td>135</td>\n",
       "      <td>130</td>\n",
       "    </tr>\n",
       "  </tbody>\n",
       "</table>\n",
       "<p>100 rows × 3 columns</p>\n",
       "</div>"
      ],
      "text/plain": [
       "    Patient ID   Blood Pressure Before (mmHg)   Blood Pressure After (mmHg)\n",
       "0            1                            130                           120\n",
       "1            2                            142                           135\n",
       "2            3                            120                           118\n",
       "3            4                            135                           127\n",
       "4            5                            148                           140\n",
       "..         ...                            ...                           ...\n",
       "95          96                            136                           129\n",
       "96          97                            143                           137\n",
       "97          98                            127                           123\n",
       "98          99                            139                           135\n",
       "99         100                            135                           130\n",
       "\n",
       "[100 rows x 3 columns]"
      ]
     },
     "execution_count": 14,
     "metadata": {},
     "output_type": "execute_result"
    }
   ],
   "source": [
    "df"
   ]
  },
  {
   "cell_type": "code",
   "execution_count": 17,
   "id": "bf653f68",
   "metadata": {},
   "outputs": [],
   "source": [
    "# Renaming the columns names because they had an extra space at the beginning, just to avoid the confusion, the extra \n",
    "# space is being removed\n",
    "df.rename(columns={' Blood Pressure Before (mmHg)': 'Blood Pressure Before (mmHg)'}, inplace=True)\n",
    "df.rename(columns={' Blood Pressure After (mmHg)': 'Blood Pressure After (mmHg)'}, inplace=True)"
   ]
  },
  {
   "cell_type": "code",
   "execution_count": 20,
   "id": "86d14948",
   "metadata": {},
   "outputs": [],
   "source": [
    "# Range:\n",
    "# The range is the simplest measure of dispersion and represents the difference between the maximum and minimum values in a\n",
    "# column.\n",
    "\n",
    "import pandas as pd\n",
    "\n",
    "# We have columns 'Blood Pressure Before (mmHg)' and 'Blood Pressure After (mmHg)'\n",
    "col1_range = df['Blood Pressure Before (mmHg)'.strip()].max() - df['Blood Pressure Before (mmHg)'.strip()].min()\n",
    "col2_range = df['Blood Pressure After (mmHg)'.strip()].max() - df['Blood Pressure After (mmHg)'.strip()].min()"
   ]
  },
  {
   "cell_type": "code",
   "execution_count": 21,
   "id": "b4f749f8",
   "metadata": {},
   "outputs": [
    {
     "data": {
      "text/plain": [
       "28"
      ]
     },
     "execution_count": 21,
     "metadata": {},
     "output_type": "execute_result"
    }
   ],
   "source": [
    "col1_range"
   ]
  },
  {
   "cell_type": "code",
   "execution_count": 22,
   "id": "e7f47b58",
   "metadata": {},
   "outputs": [
    {
     "data": {
      "text/plain": [
       "23"
      ]
     },
     "execution_count": 22,
     "metadata": {},
     "output_type": "execute_result"
    }
   ],
   "source": [
    "col2_range"
   ]
  },
  {
   "cell_type": "code",
   "execution_count": 23,
   "id": "b3f21ed7",
   "metadata": {},
   "outputs": [],
   "source": [
    "# Variance:\n",
    "# Variance measures the average squared deviation from the mean. It provides an understanding of how spread out\n",
    "# the values are in a column.\n",
    "\n",
    "col1_variance = df['Blood Pressure Before (mmHg)'].var()\n",
    "col2_variance = df['Blood Pressure After (mmHg)'].var()"
   ]
  },
  {
   "cell_type": "code",
   "execution_count": 24,
   "id": "697e3e12",
   "metadata": {},
   "outputs": [
    {
     "data": {
      "text/plain": [
       "43.53727272727271"
      ]
     },
     "execution_count": 24,
     "metadata": {},
     "output_type": "execute_result"
    }
   ],
   "source": [
    "col1_variance"
   ]
  },
  {
   "cell_type": "code",
   "execution_count": 25,
   "id": "d24749a6",
   "metadata": {},
   "outputs": [
    {
     "data": {
      "text/plain": [
       "47.4448484848485"
      ]
     },
     "execution_count": 25,
     "metadata": {},
     "output_type": "execute_result"
    }
   ],
   "source": [
    "col2_variance"
   ]
  },
  {
   "cell_type": "code",
   "execution_count": 26,
   "id": "7a365236",
   "metadata": {},
   "outputs": [],
   "source": [
    "# Standard Deviation:\n",
    "# The standard deviation is the square root of the variance and represents the average amount by which values \n",
    "# in a column deviate from the mean.\n",
    "\n",
    "std_dev_column1 = df['Blood Pressure Before (mmHg)'].std()\n",
    "std_dev_column2 = df['Blood Pressure After (mmHg)'].std()"
   ]
  },
  {
   "cell_type": "code",
   "execution_count": 27,
   "id": "a2ce4094",
   "metadata": {},
   "outputs": [
    {
     "data": {
      "text/plain": [
       "6.598278012275075"
      ]
     },
     "execution_count": 27,
     "metadata": {},
     "output_type": "execute_result"
    }
   ],
   "source": [
    "std_dev_column1"
   ]
  },
  {
   "cell_type": "code",
   "execution_count": 28,
   "id": "d4c07e7f",
   "metadata": {},
   "outputs": [
    {
     "data": {
      "text/plain": [
       "6.8880221025232276"
      ]
     },
     "execution_count": 28,
     "metadata": {},
     "output_type": "execute_result"
    }
   ],
   "source": [
    "std_dev_column2"
   ]
  },
  {
   "cell_type": "code",
   "execution_count": 31,
   "id": "923c8ad6",
   "metadata": {
    "collapsed": true
   },
   "outputs": [
    {
     "data": {
      "text/plain": [
       "'\\nAnswer 4:\\nTo calculate the probability that the number drawn from the hat is a perfect square (1, 4, 9, or 16), we need to determine the number of favorable outcomes (perfect squares) and the total number of possible outcomes.\\n\\nNumber of favorable outcomes: There are 4 perfect squares between 1 and 20, which are 1, 4, 9, and 16.\\n\\nTotal number of possible outcomes: There are 20 slips of paper in the hat, each with a unique number from 1 to 20.\\n\\nTherefore, the probability is given by:\\n\\nProbability = (Number of favorable outcomes) / (Total number of possible outcomes)\\n\\nProbability = 4 / 20\\n\\nSimplifying the fraction, we get:\\n\\nProbability = 1 / 5\\n\\nHence, the probability that the number drawn from the hat is a perfect square is 1/5 or 0.2 (or 20%).\\n'"
      ]
     },
     "execution_count": 31,
     "metadata": {},
     "output_type": "execute_result"
    }
   ],
   "source": [
    "\"\"\"\n",
    "Answer 4:\n",
    "To calculate the probability that the number drawn from the hat is a perfect square (1, 4, 9, or 16), we need to determine the number of favorable outcomes (perfect squares) and the total number of possible outcomes.\n",
    "\n",
    "Number of favorable outcomes: There are 4 perfect squares between 1 and 20, which are 1, 4, 9, and 16.\n",
    "\n",
    "Total number of possible outcomes: There are 20 slips of paper in the hat, each with a unique number from 1 to 20.\n",
    "\n",
    "Therefore, the probability is given by:\n",
    "\n",
    "Probability = (Number of favorable outcomes) / (Total number of possible outcomes)\n",
    "\n",
    "Probability = 4 / 20\n",
    "\n",
    "Simplifying the fraction, we get:\n",
    "\n",
    "Probability = 1 / 5\n",
    "\n",
    "Hence, the probability that the number drawn from the hat is a perfect square is 1/5 or 0.2 (or 20%).\n",
    "\"\"\""
   ]
  },
  {
   "cell_type": "code",
   "execution_count": 32,
   "id": "ded986cb",
   "metadata": {
    "collapsed": true
   },
   "outputs": [
    {
     "data": {
      "text/plain": [
       "\"\\nAnswer 5:\\nA: The selected taxi belongs to Company A.\\nB: The selected taxi is late.\\n\\nWe want to calculate the probability that the selected taxi belongs to Company A given that it is late, which is denoted as P(A|B).\\n\\nAccording to Bayes' theorem:\\n\\nP(A|B) = (P(B|A) * P(A)) / P(B)\\n\\nP(B|A) is the probability of the taxi being late given that it belongs to Company A, which is 1 - the success rate of Company A's taxis: 1 - 0.95 = 0.05.\\n\\nP(A) is the probability of selecting a taxi from Company A, which is given as 0.8 (80%).\\n\\nP(B) is the probability of the taxi being late, which can be calculated using the law of total probability:\\n\\nP(B) = P(B|A) * P(A) + P(B|~A) * P(~A)\\n\\nP(B|~A) is the probability of the taxi being late given that it does not belong to Company A, which is 1 - the success rate of Company B's taxis: 1 - 0.90 = 0.10.\\n\\nP(~A) is the probability of selecting a taxi from Company B, which is given as 0.2 (20%).\\n\\nNow, let's substitute the values into the formula:\\n\\nP(B) = (0.05 * 0.8) + (0.10 * 0.2) = 0.04 + 0.02 = 0.06\\n\\nFinally, we can calculate P(A|B):\\n\\nP(A|B) = (0.05 * 0.8) / 0.06 ≈ 0.67\\n\\nTherefore, the probability that a randomly selected late taxi belongs to Company A is approximately 0.67 or 67%.\\n\\n\""
      ]
     },
     "execution_count": 32,
     "metadata": {},
     "output_type": "execute_result"
    }
   ],
   "source": [
    "\"\"\"\n",
    "Answer 5:\n",
    "A: The selected taxi belongs to Company A.\n",
    "B: The selected taxi is late.\n",
    "\n",
    "We want to calculate the probability that the selected taxi belongs to Company A given that it is late, which is denoted as P(A|B).\n",
    "\n",
    "According to Bayes' theorem:\n",
    "\n",
    "P(A|B) = (P(B|A) * P(A)) / P(B)\n",
    "\n",
    "P(B|A) is the probability of the taxi being late given that it belongs to Company A, which is 1 - the success rate of Company A's taxis: 1 - 0.95 = 0.05.\n",
    "\n",
    "P(A) is the probability of selecting a taxi from Company A, which is given as 0.8 (80%).\n",
    "\n",
    "P(B) is the probability of the taxi being late, which can be calculated using the law of total probability:\n",
    "\n",
    "P(B) = P(B|A) * P(A) + P(B|~A) * P(~A)\n",
    "\n",
    "P(B|~A) is the probability of the taxi being late given that it does not belong to Company A, which is 1 - the success rate of Company B's taxis: 1 - 0.90 = 0.10.\n",
    "\n",
    "P(~A) is the probability of selecting a taxi from Company B, which is given as 0.2 (20%).\n",
    "\n",
    "Now, let's substitute the values into the formula:\n",
    "\n",
    "P(B) = (0.05 * 0.8) + (0.10 * 0.2) = 0.04 + 0.02 = 0.06\n",
    "\n",
    "Finally, we can calculate P(A|B):\n",
    "\n",
    "P(A|B) = (0.05 * 0.8) / 0.06 ≈ 0.67\n",
    "\n",
    "Therefore, the probability that a randomly selected late taxi belongs to Company A is approximately 0.67 or 67%.\n",
    "\n",
    "\"\"\""
   ]
  },
  {
   "cell_type": "code",
   "execution_count": 33,
   "id": "6f6e845e",
   "metadata": {},
   "outputs": [
    {
     "name": "stdout",
     "output_type": "stream",
     "text": [
      "The change in blood pressure does not follow a normal distribution.\n"
     ]
    }
   ],
   "source": [
    "# Solution 6\n",
    "\n",
    "import pandas as pd\n",
    "from scipy.stats import shapiro\n",
    "\n",
    "data = df['Blood Pressure After (mmHg)'] - df['Blood Pressure Before (mmHg)']\n",
    "\n",
    "# Perform Shapiro-Wilk test\n",
    "statistic, p_value = shapiro(data)\n",
    "\n",
    "# Check the p-value\n",
    "alpha = 0.05  # Set the significance level\n",
    "if p_value > alpha:\n",
    "    print(\"The change in blood pressure follows a normal distribution.\")\n",
    "else:\n",
    "    print(\"The change in blood pressure does not follow a normal distribution.\")\n"
   ]
  },
  {
   "cell_type": "code",
   "execution_count": 34,
   "id": "382c061d",
   "metadata": {
    "collapsed": true
   },
   "outputs": [
    {
     "data": {
      "text/plain": [
       "'\\nQ-7. The equations of two lines of regression, obtained in a correlation analysis\\nbetween variables X and Y are as follows:\\n\\nand . 2X + 3 − 8 = 0 2Y + X − 5 = 0 The variance of X = 4 Find the\\na. Variance of Y\\nb. Coefficient of determination of C and Y\\nc. Standard error of estimate of X on Y and of Y on X.\\n'"
      ]
     },
     "execution_count": 34,
     "metadata": {},
     "output_type": "execute_result"
    }
   ],
   "source": [
    "\"\"\"\n",
    "Q-7. The equations of two lines of regression, obtained in a correlation analysis\n",
    "between variables X and Y are as follows:\n",
    "\n",
    "and . 2X + 3 − 8 = 0 2Y + X − 5 = 0 The variance of X = 4 Find the\n",
    "a. Variance of Y\n",
    "b. Coefficient of determination of C and Y\n",
    "c. Standard error of estimate of X on Y and of Y on X.\n",
    "\"\"\"\n",
    "\n",
    "# Solution 7:\n",
    "\n",
    "# NOTE!!!:\n",
    "#This problem statement seems incomplete"
   ]
  },
  {
   "cell_type": "code",
   "execution_count": 35,
   "id": "6fa6e239",
   "metadata": {},
   "outputs": [],
   "source": [
    "\"\"\"\n",
    "Q-8. The anxiety levels of 10 participants were measured before and after a new therapy.\n",
    "The scores are not normally distributed. Use the Wilcoxon signed-rank test to test whether\n",
    "the therapy had a significant effect on anxiety levels. The data is given below: Participant\n",
    "Before therapy After therapy Difference\n",
    "\"\"\"\n",
    "\n",
    "# Solution 8:\n",
    "\n",
    "data = {\n",
    "    'Participants': [1, 2, 3, 4, 5, 6, 7, 8, 9, 10],\n",
    "    'Before Therapy': [10, 8, 12, 15, 6, 9, 11, 7, 14, 10],\n",
    "    'After Therapy': [7, 6, 10, 12, 5, 8, 9, 6, 12, 8]\n",
    "}\n",
    "\n",
    "df1 = pd.DataFrame(data)\n",
    "df1['Difference'] = df1['After Therapy'] - df1['Before Therapy']"
   ]
  },
  {
   "cell_type": "code",
   "execution_count": 36,
   "id": "d3e374c2",
   "metadata": {},
   "outputs": [
    {
     "data": {
      "text/html": [
       "<div>\n",
       "<style scoped>\n",
       "    .dataframe tbody tr th:only-of-type {\n",
       "        vertical-align: middle;\n",
       "    }\n",
       "\n",
       "    .dataframe tbody tr th {\n",
       "        vertical-align: top;\n",
       "    }\n",
       "\n",
       "    .dataframe thead th {\n",
       "        text-align: right;\n",
       "    }\n",
       "</style>\n",
       "<table border=\"1\" class=\"dataframe\">\n",
       "  <thead>\n",
       "    <tr style=\"text-align: right;\">\n",
       "      <th></th>\n",
       "      <th>Participants</th>\n",
       "      <th>Before Therapy</th>\n",
       "      <th>After Therapy</th>\n",
       "      <th>Difference</th>\n",
       "    </tr>\n",
       "  </thead>\n",
       "  <tbody>\n",
       "    <tr>\n",
       "      <th>0</th>\n",
       "      <td>1</td>\n",
       "      <td>10</td>\n",
       "      <td>7</td>\n",
       "      <td>-3</td>\n",
       "    </tr>\n",
       "    <tr>\n",
       "      <th>1</th>\n",
       "      <td>2</td>\n",
       "      <td>8</td>\n",
       "      <td>6</td>\n",
       "      <td>-2</td>\n",
       "    </tr>\n",
       "    <tr>\n",
       "      <th>2</th>\n",
       "      <td>3</td>\n",
       "      <td>12</td>\n",
       "      <td>10</td>\n",
       "      <td>-2</td>\n",
       "    </tr>\n",
       "    <tr>\n",
       "      <th>3</th>\n",
       "      <td>4</td>\n",
       "      <td>15</td>\n",
       "      <td>12</td>\n",
       "      <td>-3</td>\n",
       "    </tr>\n",
       "    <tr>\n",
       "      <th>4</th>\n",
       "      <td>5</td>\n",
       "      <td>6</td>\n",
       "      <td>5</td>\n",
       "      <td>-1</td>\n",
       "    </tr>\n",
       "    <tr>\n",
       "      <th>5</th>\n",
       "      <td>6</td>\n",
       "      <td>9</td>\n",
       "      <td>8</td>\n",
       "      <td>-1</td>\n",
       "    </tr>\n",
       "    <tr>\n",
       "      <th>6</th>\n",
       "      <td>7</td>\n",
       "      <td>11</td>\n",
       "      <td>9</td>\n",
       "      <td>-2</td>\n",
       "    </tr>\n",
       "    <tr>\n",
       "      <th>7</th>\n",
       "      <td>8</td>\n",
       "      <td>7</td>\n",
       "      <td>6</td>\n",
       "      <td>-1</td>\n",
       "    </tr>\n",
       "    <tr>\n",
       "      <th>8</th>\n",
       "      <td>9</td>\n",
       "      <td>14</td>\n",
       "      <td>12</td>\n",
       "      <td>-2</td>\n",
       "    </tr>\n",
       "    <tr>\n",
       "      <th>9</th>\n",
       "      <td>10</td>\n",
       "      <td>10</td>\n",
       "      <td>8</td>\n",
       "      <td>-2</td>\n",
       "    </tr>\n",
       "  </tbody>\n",
       "</table>\n",
       "</div>"
      ],
      "text/plain": [
       "   Participants  Before Therapy  After Therapy  Difference\n",
       "0             1              10              7          -3\n",
       "1             2               8              6          -2\n",
       "2             3              12             10          -2\n",
       "3             4              15             12          -3\n",
       "4             5               6              5          -1\n",
       "5             6               9              8          -1\n",
       "6             7              11              9          -2\n",
       "7             8               7              6          -1\n",
       "8             9              14             12          -2\n",
       "9            10              10              8          -2"
      ]
     },
     "execution_count": 36,
     "metadata": {},
     "output_type": "execute_result"
    }
   ],
   "source": [
    "df1"
   ]
  },
  {
   "cell_type": "code",
   "execution_count": 37,
   "id": "73727f23",
   "metadata": {},
   "outputs": [
    {
     "name": "stdout",
     "output_type": "stream",
     "text": [
      "The therapy had a significant effect on anxiety levels.\n"
     ]
    }
   ],
   "source": [
    "from scipy.stats import wilcoxon\n",
    "\n",
    "diff = df1['Difference']\n",
    "\n",
    "# Perform Wilcoxon signed-rank test\n",
    "statistic, p_value = wilcoxon(diff)\n",
    "\n",
    "# Check the p-value\n",
    "alpha = 0.05  # Set the significance level\n",
    "if p_value > alpha:\n",
    "    print(\"The therapy did not have a significant effect on anxiety levels.\")\n",
    "else:\n",
    "    print(\"The therapy had a significant effect on anxiety levels.\")\n"
   ]
  },
  {
   "cell_type": "code",
   "execution_count": 39,
   "id": "01988b1e",
   "metadata": {},
   "outputs": [
    {
     "data": {
      "text/html": [
       "<div>\n",
       "<style scoped>\n",
       "    .dataframe tbody tr th:only-of-type {\n",
       "        vertical-align: middle;\n",
       "    }\n",
       "\n",
       "    .dataframe tbody tr th {\n",
       "        vertical-align: top;\n",
       "    }\n",
       "\n",
       "    .dataframe thead th {\n",
       "        text-align: right;\n",
       "    }\n",
       "</style>\n",
       "<table border=\"1\" class=\"dataframe\">\n",
       "  <thead>\n",
       "    <tr style=\"text-align: right;\">\n",
       "      <th></th>\n",
       "      <th>Names</th>\n",
       "      <th>Exam 1</th>\n",
       "      <th>Exam 2</th>\n",
       "      <th>Final Exam</th>\n",
       "    </tr>\n",
       "  </thead>\n",
       "  <tbody>\n",
       "    <tr>\n",
       "      <th>0</th>\n",
       "      <td>Karan</td>\n",
       "      <td>85</td>\n",
       "      <td>90</td>\n",
       "      <td>92</td>\n",
       "    </tr>\n",
       "    <tr>\n",
       "      <th>1</th>\n",
       "      <td>Deepa</td>\n",
       "      <td>70</td>\n",
       "      <td>80</td>\n",
       "      <td>85</td>\n",
       "    </tr>\n",
       "    <tr>\n",
       "      <th>2</th>\n",
       "      <td>Karthik</td>\n",
       "      <td>90</td>\n",
       "      <td>85</td>\n",
       "      <td>88</td>\n",
       "    </tr>\n",
       "    <tr>\n",
       "      <th>3</th>\n",
       "      <td>Chandan</td>\n",
       "      <td>75</td>\n",
       "      <td>90</td>\n",
       "      <td>75</td>\n",
       "    </tr>\n",
       "    <tr>\n",
       "      <th>4</th>\n",
       "      <td>Jeevan</td>\n",
       "      <td>95</td>\n",
       "      <td>92</td>\n",
       "      <td>96</td>\n",
       "    </tr>\n",
       "  </tbody>\n",
       "</table>\n",
       "</div>"
      ],
      "text/plain": [
       "     Names  Exam 1  Exam 2  Final Exam\n",
       "0    Karan      85      90          92\n",
       "1    Deepa      70      80          85\n",
       "2  Karthik      90      85          88\n",
       "3  Chandan      75      90          75\n",
       "4   Jeevan      95      92          96"
      ]
     },
     "execution_count": 39,
     "metadata": {},
     "output_type": "execute_result"
    }
   ],
   "source": [
    "\"\"\"\n",
    "Test the hypothesis that the mean scores of all the students are the same. If not, name the\n",
    "student with the highest score.\n",
    "\"\"\"\n",
    "\n",
    "# Solution 9:\n",
    "\n",
    "data1 = {\n",
    "    'Names': ['Karan', 'Deepa', 'Karthik', 'Chandan', 'Jeevan'],\n",
    "    'Exam 1': [85,70,90,75,95],\n",
    "    'Exam 2': [90,80,85,90,92],\n",
    "    'Final Exam':[92,85,88,75,96]\n",
    "}\n",
    "\n",
    "df2 = pd.DataFrame(data1)\n",
    "df2"
   ]
  },
  {
   "cell_type": "code",
   "execution_count": 40,
   "id": "512cec30",
   "metadata": {},
   "outputs": [
    {
     "name": "stdout",
     "output_type": "stream",
     "text": [
      "The mean scores of all the students are the same.\n",
      "The student with the highest score is: Jeevan\n"
     ]
    }
   ],
   "source": [
    "from scipy.stats import f_oneway\n",
    "\n",
    "data = [df2['Exam 1'], df2['Exam 2'], df2['Final Exam']]\n",
    "\n",
    "# Perform one-way ANOVA\n",
    "statistic, p_value = f_oneway(*data)\n",
    "\n",
    "# Check the p-value\n",
    "alpha = 0.05  # Set the significance level\n",
    "if p_value > alpha:\n",
    "    print(\"The mean scores of all the students are the same.\")\n",
    "else:\n",
    "    print(\"The mean scores of all the students are not the same.\")\n",
    "\n",
    "# Identify the student with the highest score\n",
    "df2['Total Score'] = df2['Exam 1'] + df2['Exam 2'] + df2['Final Exam']\n",
    "highest_score_student = df2.loc[df2['Total Score'].idxmax(), 'Names']\n",
    "print(\"The student with the highest score is:\", highest_score_student)\n"
   ]
  },
  {
   "cell_type": "code",
   "execution_count": 41,
   "id": "e24c0210",
   "metadata": {},
   "outputs": [
    {
     "name": "stdout",
     "output_type": "stream",
     "text": [
      "a. Probability that exactly 20 bulbs are defective: 0.05161619253663997\n",
      "b. Probability that at least 10 bulbs are defective: 0.9998316463654902\n",
      "c. Probability that at most 15 bulbs are defective: 0.019858377163006223\n",
      "d. Expected number of defective bulbs: 25.0\n"
     ]
    }
   ],
   "source": [
    "\"\"\"\n",
    "Q-10. A factory produces light bulbs, and the probability of a bulb being defective is 0.05.\n",
    "The factory produces a large batch of 500 light bulbs.\n",
    "a. What is the probability that exactly 20 bulbs are defective?\n",
    "b. What is the probability that at least 10 bulbs are defective?\n",
    "c. What is the probability that at max 15 bulbs are defective?\n",
    "d. On average, how many defective bulbs would you expect in a batch of 500?\n",
    "\"\"\"\n",
    "\n",
    "# Solution 10:\n",
    "\n",
    "import math\n",
    "\n",
    "n = 500  # Number of trials (light bulbs)\n",
    "p = 0.05  # Probability of a bulb being defective\n",
    "\n",
    "# a. Probability that exactly 20 bulbs are defective\n",
    "k = 20  # Number of successes\n",
    "prob_20_defective = math.comb(n, k) * p**k * (1 - p)**(n - k)\n",
    "\n",
    "# b. Probability that at least 10 bulbs are defective\n",
    "prob_at_least_10_defective = 1 - sum(math.comb(n, k) * p**k * (1 - p)**(n - k) for k in range(10))\n",
    "\n",
    "# c. Probability that at most 15 bulbs are defective\n",
    "prob_at_most_15_defective = sum(math.comb(n, k) * p**k * (1 - p)**(n - k) for k in range(16))\n",
    "\n",
    "# d. Expected number of defective bulbs\n",
    "expected_defective_bulbs = n * p\n",
    "\n",
    "print(\"a. Probability that exactly 20 bulbs are defective:\", prob_20_defective)\n",
    "print(\"b. Probability that at least 10 bulbs are defective:\", prob_at_least_10_defective)\n",
    "print(\"c. Probability that at most 15 bulbs are defective:\", prob_at_most_15_defective)\n",
    "print(\"d. Expected number of defective bulbs:\", expected_defective_bulbs)"
   ]
  },
  {
   "cell_type": "code",
   "execution_count": 42,
   "id": "a76387d4",
   "metadata": {},
   "outputs": [
    {
     "name": "stdout",
     "output_type": "stream",
     "text": [
      "The variances of blood pressure before and after are equal.\n"
     ]
    }
   ],
   "source": [
    "\"\"\"\n",
    "Question 11:\n",
    "a. Check whether the distribution of all the classes are the same or not.\n",
    "b. Check for the equality of variance/\n",
    "c. Which amount LDA and QDA would perform better on this data for\n",
    "classification and why.\n",
    "d. Check the equality of mean for between all the classes.\n",
    "\"\"\"\n",
    "\n",
    "# Solution\n",
    "\n",
    "from scipy.stats import levene\n",
    "\n",
    "# Perform Levene's test\n",
    "stat, p_value = levene(df['Blood Pressure Before (mmHg)'], df['Blood Pressure After (mmHg)'])\n",
    "\n",
    "alpha = 0.05  # Set the significance level\n",
    "if p_value > alpha:\n",
    "    print(\"The variances of blood pressure before and after are equal.\")\n",
    "else:\n",
    "    print(\"The variances of blood pressure before and after are not equal.\")"
   ]
  },
  {
   "cell_type": "code",
   "execution_count": 43,
   "id": "e80e62b4",
   "metadata": {},
   "outputs": [
    {
     "name": "stdout",
     "output_type": "stream",
     "text": [
      "There is no significant difference in the mean improvement scores between the two groups.\n"
     ]
    }
   ],
   "source": [
    "\"\"\"\n",
    "Q-12. A pharmaceutical company develops a new drug and wants to compare its\n",
    "effectiveness against a standard drug for treating a particular condition. They conduct a\n",
    "study with two groups: Group A receives the new drug, and Group B receives the standard\n",
    "drug. The company measures the improvement in a specific symptom for both groups after\n",
    "a 4-week treatment period.\n",
    "a. The company collects data from 30 patients in each group and calculates the\n",
    "mean improvement score and the standard deviation of improvement for each\n",
    "group. The mean improvement score for Group A is 2.5 with a standard\n",
    "deviation of 0.8, while the mean improvement score for Group B is 2.2 with a\n",
    "standard deviation of 0.6. Conduct a t-test to determine if there is a significant\n",
    "difference in the mean improvement scores between the two groups. Use a\n",
    "significance level of 0.05.\n",
    "b. Based on the t-test results, state whether the null hypothesis should be\n",
    "rejected or not. Provide a conclusion in the context of the study.\n",
    "\"\"\"\n",
    "\n",
    "# Solution 12:\n",
    "\n",
    "import scipy.stats as stats\n",
    "\n",
    "# Group A data\n",
    "mean_A = 2.5\n",
    "std_A = 0.8\n",
    "n_A = 30\n",
    "\n",
    "# Group B data\n",
    "mean_B = 2.2\n",
    "std_B = 0.6\n",
    "n_B = 30\n",
    "\n",
    "# Perform independent samples t-test\n",
    "t_stat, p_value = stats.ttest_ind_from_stats(mean_A, std_A, n_A, mean_B, std_B, n_B)\n",
    "\n",
    "alpha = 0.05  # Set the significance level\n",
    "\n",
    "if p_value < alpha:\n",
    "    print(\"There is a significant difference in the mean improvement scores between the two groups.\")\n",
    "else:\n",
    "    print(\"There is no significant difference in the mean improvement scores between the two groups.\")"
   ]
  },
  {
   "cell_type": "code",
   "execution_count": null,
   "id": "49bf5f95",
   "metadata": {},
   "outputs": [],
   "source": []
  }
 ],
 "metadata": {
  "kernelspec": {
   "display_name": "Python 3 (ipykernel)",
   "language": "python",
   "name": "python3"
  },
  "language_info": {
   "codemirror_mode": {
    "name": "ipython",
    "version": 3
   },
   "file_extension": ".py",
   "mimetype": "text/x-python",
   "name": "python",
   "nbconvert_exporter": "python",
   "pygments_lexer": "ipython3",
   "version": "3.9.12"
  }
 },
 "nbformat": 4,
 "nbformat_minor": 5
}
